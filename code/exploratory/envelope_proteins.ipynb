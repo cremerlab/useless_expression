{
 "cells": [
  {
   "cell_type": "markdown",
   "source": [
    "# Exploring behavior of envelope proteins"
   ],
   "metadata": {}
  },
  {
   "cell_type": "code",
   "execution_count": 1,
   "source": [
    "import numpy as np \n",
    "import pandas as pd \n",
    "import altair as alt\n",
    "import futileprot.viz\n",
    "import altair_saver \n",
    "colors, palette = futileprot.viz.altair_style()"
   ],
   "outputs": [],
   "metadata": {}
  },
  {
   "cell_type": "code",
   "execution_count": 3,
   "source": [
    "data = pd.read_csv('../../data/literature/Belliveau2021/Belliveau2021_absolute_measurements.csv')"
   ],
   "outputs": [],
   "metadata": {}
  },
  {
   "cell_type": "code",
   "execution_count": 13,
   "source": [
    "# Use go terms to classify\n",
    "classes = {'outer membrane': 'GO:0009279',\n",
    "           'inner membrane': 'GO:0005886',\n",
    "           'periplasm': 'GO:0042597', \n",
    "           'cytosol': 'GO:0005829'}\n",
    "\n",
    "df = pd.DataFrame([])\n",
    "for g, d in data.groupby(['dataset', 'dataset_name', 'condition', 'growth_rate_hr']):\n",
    "    tot_prot = d['fg_per_cell'].sum()\n",
    "    for k, v in classes.items():\n",
    "        class_prot = d[d['go_terms'].str.contains(v)]['fg_per_cell'].sum()\n",
    "        df = df.append({'dataset_name':g[1],\n",
    "                        'condition': g[2],\n",
    "                        'growth_rate_hr': g[3], \n",
    "                        'location': k,\n",
    "                        'location_mass': class_prot,\n",
    "                        'total_protein_mass': tot_prot, \n",
    "                        'location_frac': class_prot / tot_prot\n",
    "                        }, ignore_index=True)"
   ],
   "outputs": [],
   "metadata": {}
  },
  {
   "cell_type": "code",
   "execution_count": 17,
   "source": [
    "out = alt.Chart(df[df['location']!='cytosol']).mark_point().encode(\n",
    "        x=alt.X('growth_rate_hr:Q', title='growth rate [per hr]'), \n",
    "        y=alt.Y('location_frac:Q', title='mass fraction'), \n",
    "        color=alt.Color('location:N', title='localization'),\n",
    "        shape=alt.Shape('dataset_name:N', title='dataset')\n",
    ")\n",
    "altair_saver.save(out, './localization_mass_fraction.pdf')"
   ],
   "outputs": [],
   "metadata": {}
  },
  {
   "cell_type": "code",
   "execution_count": 32,
   "source": [
    "summed = df[(df['location']!='cytosol') & \n",
    "            (df['location'] != 'inner membrane')].groupby(['dataset_name', 'condition', 'growth_rate_hr']).sum().reset_index()"
   ],
   "outputs": [],
   "metadata": {}
  },
  {
   "cell_type": "code",
   "execution_count": 33,
   "source": [
    "out = alt.Chart(summed).mark_point().encode(\n",
    "        x=alt.X('growth_rate_hr:Q', title='growth rate [per hr]'), \n",
    "        y=alt.Y('location_frac:Q', title='mass fraction'), \n",
    "        color=alt.Color('dataset_name:N', title='dataset')\n",
    ")"
   ],
   "outputs": [],
   "metadata": {}
  },
  {
   "cell_type": "code",
   "execution_count": 34,
   "source": [
    "out = out.properties(title='cell envelope (outer membrane + periplasm)')\n",
    "altair_saver.save(out, './envelope_mass_fraction.pdf')\n"
   ],
   "outputs": [],
   "metadata": {}
  },
  {
   "cell_type": "code",
   "execution_count": 35,
   "source": [
    "summed = df[(df['location']!='cytosol')].groupby(['dataset_name', 'growth_rate_hr']).sum().reset_index()\n",
    "out = alt.Chart(summed).mark_point().encode(\n",
    "        x=alt.X('growth_rate_hr:Q', title='growth rate [per hr]'), \n",
    "        y=alt.Y('location_frac:Q', title='mass fraction'), \n",
    "        color=alt.Color('dataset_name:N', title='dataset')\n",
    ")\n",
    "out = out.properties(title='cell periphery (outer membrane + periplasm + inner membrane)')\n",
    "altair_saver.save(out, './periphery_mass_fraction.pdf')\n"
   ],
   "outputs": [],
   "metadata": {}
  },
  {
   "cell_type": "code",
   "execution_count": null,
   "source": [],
   "outputs": [],
   "metadata": {}
  }
 ],
 "metadata": {
  "orig_nbformat": 4,
  "language_info": {
   "name": "python",
   "version": "3.8.11",
   "mimetype": "text/x-python",
   "codemirror_mode": {
    "name": "ipython",
    "version": 3
   },
   "pygments_lexer": "ipython3",
   "nbconvert_exporter": "python",
   "file_extension": ".py"
  },
  "kernelspec": {
   "name": "python3",
   "display_name": "Python 3.8.11 64-bit ('base': conda)"
  },
  "interpreter": {
   "hash": "dca0ade3e726a953b501b15e8e990130d2b7799f14cfd9f4271676035ebe5511"
  }
 },
 "nbformat": 4,
 "nbformat_minor": 2
}