{
 "cells": [
  {
   "cell_type": "markdown",
   "metadata": {},
   "source": [
    "# Exploring Wildtype Expression"
   ]
  },
  {
   "cell_type": "code",
   "execution_count": 1,
   "metadata": {},
   "outputs": [],
   "source": [
    "import numpy as np \n",
    "import pandas as pd \n",
    "import altair as alt \n",
    "import futileprot as fp \n",
    "colors, palette = fp.viz.altair_style()"
   ]
  },
  {
   "cell_type": "code",
   "execution_count": 10,
   "metadata": {},
   "outputs": [],
   "source": [
    "# Load the Balakrishan 2021 data \n",
    "data = pd.read_csv('../../data/literature/Balakrishnan2021/Balakrishnan2021_wt_rnaseq.csv')\n",
    "\n",
    "# Clean up the data to a form that is useful.\n",
    "data.rename(columns={'WT-pre':'glucose', 'WT-acetate':'acetate', 'gene':'gene_name'},\n",
    "            inplace=True)\n",
    "data = data[['gene_name', 'glucose', 'acetate']]\n",
    "data = data.melt('gene_name', var_name='growth_medium', value_name='reads')\n"
   ]
  },
  {
   "cell_type": "code",
   "execution_count": 13,
   "metadata": {},
   "outputs": [
    {
     "data": {
      "text/html": [
       "<div>\n",
       "<style scoped>\n",
       "    .dataframe tbody tr th:only-of-type {\n",
       "        vertical-align: middle;\n",
       "    }\n",
       "\n",
       "    .dataframe tbody tr th {\n",
       "        vertical-align: top;\n",
       "    }\n",
       "\n",
       "    .dataframe thead th {\n",
       "        text-align: right;\n",
       "    }\n",
       "</style>\n",
       "<table border=\"1\" class=\"dataframe\">\n",
       "  <thead>\n",
       "    <tr style=\"text-align: right;\">\n",
       "      <th></th>\n",
       "      <th>gene_name</th>\n",
       "      <th>growth_medium</th>\n",
       "      <th>reads</th>\n",
       "    </tr>\n",
       "  </thead>\n",
       "  <tbody>\n",
       "    <tr>\n",
       "      <th>1149</th>\n",
       "      <td>hisP</td>\n",
       "      <td>glucose</td>\n",
       "      <td>2508</td>\n",
       "    </tr>\n",
       "    <tr>\n",
       "      <th>5491</th>\n",
       "      <td>hisP</td>\n",
       "      <td>acetate</td>\n",
       "      <td>3193</td>\n",
       "    </tr>\n",
       "  </tbody>\n",
       "</table>\n",
       "</div>"
      ],
      "text/plain": [
       "     gene_name growth_medium  reads\n",
       "1149      hisP       glucose   2508\n",
       "5491      hisP       acetate   3193"
      ]
     },
     "execution_count": 13,
     "metadata": {},
     "output_type": "execute_result"
    }
   ],
   "source": [
    "# Set up the  dictionary of genes we care about. \n",
    "genes = {'flh':['flhD', 'flhC',],\n",
    "         'glt':['gltI', 'gltJ', 'gltK', 'gltL'],\n",
    "         'mal':['malG', 'malF', 'malE','malK', 'malM', 'lamB'],\n",
    "         'his':['hisJ', 'hisQ', 'hisM', 'hisP'],\n",
    "         'dpp': ['dppA', 'dppB', 'dppC', 'dppD'],\n",
    "         'pot': ['potF', 'potG', 'potH', 'potI'],\n",
    "         'nmp': ['nmpC'],\n",
    "         'rbs': ['rbsD', 'rbsB', 'rbsA', 'rbsC'],\n",
    "         'mgl': ['mglB', 'mglA', 'mglC'],\n",
    "         'opp': ['oppA', 'oppB', 'oppC', 'oppD', 'oppf']}\n",
    "data[data['gene_name']=='hisP']\n"
   ]
  },
  {
   "cell_type": "code",
   "execution_count": null,
   "metadata": {},
   "outputs": [],
   "source": []
  }
 ],
 "metadata": {
  "interpreter": {
   "hash": "dca0ade3e726a953b501b15e8e990130d2b7799f14cfd9f4271676035ebe5511"
  },
  "kernelspec": {
   "display_name": "Python 3.8.8 64-bit ('base': conda)",
   "name": "python3"
  },
  "language_info": {
   "codemirror_mode": {
    "name": "ipython",
    "version": 3
   },
   "file_extension": ".py",
   "mimetype": "text/x-python",
   "name": "python",
   "nbconvert_exporter": "python",
   "pygments_lexer": "ipython3",
   "version": "3.8.8"
  },
  "orig_nbformat": 4
 },
 "nbformat": 4,
 "nbformat_minor": 2
}